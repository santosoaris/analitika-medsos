{
 "cells": [
  {
   "cell_type": "code",
   "execution_count": 2,
   "metadata": {},
   "outputs": [],
   "source": [
    "import tweepy\n",
    "import sys\n",
    "import jsonpickle\n",
    "import time\n",
    "from datetime import datetime\n",
    "from datetime import timedelta"
   ]
  },
  {
   "cell_type": "code",
   "execution_count": null,
   "metadata": {},
   "outputs": [],
   "source": [
    "consumer_key = '....'\n",
    "consumer_secret = '...'\n",
    "access_token = '...'\n",
    "access_token_secret = '...'\n",
    "\n",
    "since =(datetime.now() + timedelta(days=-1)).strftime(\"%Y-%m-%d\")\n",
    "#qry='pindah ibu kota -filter:retweets -filter:replies -filter:links -filter:images -filter:videos'\n",
    "qry='kebakaran hutan -filter:links -filter:images -filter:videos '+'since:'+since\n",
    "maxTweets = 600 # Isi sembarang nilai sesuai kebutuhan anda\n",
    "tweetsPerQry = 100  # Jangan isi lebih dari 100, ndak boleh oleh Twitter\n",
    "fName=since+'_Tweets.json' # Nama File hasil Crawling\n",
    "\n",
    "auth = tweepy.AppAuthHandler(consumer_key,consumer_secret)\n",
    "api = tweepy.API(auth, wait_on_rate_limit=True,wait_on_rate_limit_notify=True)\n",
    "\n",
    "if (not api):\n",
    "    sys.exit('Autentikasi gagal, mohon cek \"Consumer Key\" & \"Consumer Secret\" Twitter anda')\n",
    "\n",
    "sinceId, max_id, tweetCount = None, -1, 0 \n",
    "\n",
    "print(\"Mulai mengunduh maksimum {0} tweets\".format(maxTweets))\n",
    "with open(fName,'w') as f:\n",
    "    while tweetCount < maxTweets:\n",
    "        try:\n",
    "            if (max_id <= 0):\n",
    "                if (not sinceId):\n",
    "                    new_tweets=api.search(q=qry,count=tweetsPerQry, tweet_mode='extended')\n",
    "                else:\n",
    "                    new_tweets=api.search(q=qry,count=tweetsPerQry,since_id=sinceId, tweet_mode='extended')\n",
    "            else:\n",
    "                if (not sinceId):\n",
    "                    new_tweets=api.search(q=qry,count=tweetsPerQry,max_id=str(max_id - 1), tweet_mode='extended')\n",
    "                else:\n",
    "                    new_tweets=api.search(q=qry,count=tweetsPerQry,max_id=str(max_id - 1),since_id=sinceId, tweet_mode='extended')\n",
    "            if not new_tweets:\n",
    "                print('Tidak ada lagi Tweet ditemukan dengan Query=\"{0}\"'.format(qry));break\n",
    "            for tweet in new_tweets:\n",
    "                if(tweet.created_at.date() < datetime.now().date()) :\n",
    "                    f.write(jsonpickle.encode(tweet._json,unpicklable=False)+'\\n')\n",
    "            tweetCount+=len(new_tweets)\n",
    "            sys.stdout.write(\"\\r\");sys.stdout.write(\"Jumlah Tweets telah tersimpan: %.0f\" %tweetCount);sys.stdout.flush()\n",
    "            max_id=new_tweets[-1].id\n",
    "        except tweepy.TweepError as e:\n",
    "            print(\"some error : \" + str(e));break # Aya error, keluar\n",
    "print ('\\nSelesai! {0} tweets tersimpan di \"{1}\"'.format(tweetCount,fName))"
   ]
  },
  {
   "cell_type": "code",
   "execution_count": null,
   "metadata": {},
   "outputs": [],
   "source": []
  },
  {
   "cell_type": "code",
   "execution_count": null,
   "metadata": {},
   "outputs": [],
   "source": []
  }
 ],
 "metadata": {
  "kernelspec": {
   "display_name": "Python 3",
   "language": "python",
   "name": "python3"
  },
  "language_info": {
   "codemirror_mode": {
    "name": "ipython",
    "version": 3
   },
   "file_extension": ".py",
   "mimetype": "text/x-python",
   "name": "python",
   "nbconvert_exporter": "python",
   "pygments_lexer": "ipython3",
   "version": "3.7.3"
  }
 },
 "nbformat": 4,
 "nbformat_minor": 2
}
