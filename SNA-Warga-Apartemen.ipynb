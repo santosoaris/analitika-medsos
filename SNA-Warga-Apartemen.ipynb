{
 "cells": [
  {
   "cell_type": "code",
   "execution_count": 40,
   "metadata": {},
   "outputs": [],
   "source": [
    "import networkx as nx\n",
    "import csv\n",
    "from itertools import combinations"
   ]
  },
  {
   "cell_type": "code",
   "execution_count": 41,
   "metadata": {},
   "outputs": [],
   "source": [
    "def load_csv(name):\n",
    "    with open(name, 'r') as f:\n",
    "        reader = csv.reader(f)\n",
    "        for row in reader:\n",
    "            yield row"
   ]
  },
  {
   "cell_type": "code",
   "execution_count": 42,
   "metadata": {},
   "outputs": [],
   "source": [
    "node = list(load_csv('latihansoal-node.csv'))\n",
    "edge = list(load_csv('latihansoal-edge.csv') )           "
   ]
  },
  {
   "cell_type": "code",
   "execution_count": 43,
   "metadata": {},
   "outputs": [],
   "source": [
    "nodelist = [a[0] for a in node]"
   ]
  },
  {
   "cell_type": "code",
   "execution_count": 44,
   "metadata": {},
   "outputs": [],
   "source": [
    "G = nx.Graph()\n",
    "G.add_nodes_from(nodelist)\n",
    "G.add_edges_from(edge)"
   ]
  },
  {
   "cell_type": "code",
   "execution_count": 45,
   "metadata": {},
   "outputs": [],
   "source": [
    "from matplotlib import pyplot as plt"
   ]
  },
  {
   "cell_type": "code",
   "execution_count": 46,
   "metadata": {},
   "outputs": [
    {
     "data": {
      "image/png": "[encoded data removed]",
      "text/plain": [
       "<Figure size 432x288 with 1 Axes>"
      ]
     },
     "metadata": {},
     "output_type": "display_data"
    }
   ],
   "source": [
    "pos = nx.spring_layout(G)\n",
    "nx.draw(G, pos)\n",
    "node_sizes = []\n",
    "labels = []\n",
    "nodeList = G.nodes        \n",
    "\n",
    "nx.draw_networkx_nodes(G, pos, node_list=nodeList)\n",
    "nx.draw_networkx(G, pos, font_size=16)\n",
    "\n",
    "plt.savefig('this.png')\n",
    "plt.show()"
   ]
  },
  {
   "cell_type": "code",
   "execution_count": 47,
   "metadata": {},
   "outputs": [],
   "source": [
    "comb = combinations(nodelist,2)"
   ]
  },
  {
   "cell_type": "code",
   "execution_count": 48,
   "metadata": {},
   "outputs": [],
   "source": [
    "lcomb = [c for c in comb]"
   ]
  },
  {
   "cell_type": "code",
   "execution_count": 49,
   "metadata": {},
   "outputs": [
    {
     "name": "stdout",
     "output_type": "stream",
     "text": [
      "[('oscar', 'dave'), ('oscar', 'alice'), ('oscar', 'carlos'), ('oscar', 'bob'), ('oscar', 'carol')]\n"
     ]
    }
   ],
   "source": [
    "print(lcomb[:5])"
   ]
  },
  {
   "cell_type": "code",
   "execution_count": 50,
   "metadata": {},
   "outputs": [],
   "source": [
    "lsjaccard = list(nx.jaccard_coefficient(G,lcomb))"
   ]
  },
  {
   "cell_type": "code",
   "execution_count": 53,
   "metadata": {},
   "outputs": [
    {
     "name": "stdout",
     "output_type": "stream",
     "text": [
      "[('oscar', 'dave', 0.3333333333333333), ('oscar', 'alice', 0.25), ('oscar', 'carlos', 0.2), ('oscar', 'bob', 0.0), ('oscar', 'carol', 0.0), ('oscar', 'eve', 0.0), ('oscar', 'imothep', 0.0), ('oscar', 'isaac', 0.0), ('oscar', 'chuck', 0.0), ('dave', 'alice', 0.25), ('dave', 'carlos', 0.2), ('dave', 'bob', 0.0), ('dave', 'carol', 0.0), ('dave', 'eve', 0.0), ('dave', 'imothep', 0.0), ('dave', 'isaac', 0.0), ('dave', 'chuck', 0.0), ('alice', 'carlos', 0.0), ('alice', 'bob', 0.16666666666666666), ('alice', 'carol', 0.0), ('alice', 'eve', 0.125), ('alice', 'imothep', 0.16666666666666666), ('alice', 'isaac', 0.0), ('alice', 'chuck', 0.0), ('carlos', 'bob', 0.14285714285714285), ('carlos', 'carol', 0.5), ('carlos', 'eve', 0.25), ('carlos', 'imothep', 0.14285714285714285), ('carlos', 'isaac', 0.4), ('carlos', 'chuck', 0.6), ('bob', 'carol', 0.2), ('bob', 'eve', 0.42857142857142855), ('bob', 'imothep', 0.6), ('bob', 'isaac', 0.4), ('bob', 'chuck', 0.3333333333333333), ('carol', 'eve', 0.14285714285714285), ('carol', 'imothep', 0.2), ('carol', 'isaac', 0.25), ('carol', 'chuck', 0.5), ('eve', 'imothep', 0.42857142857142855), ('eve', 'isaac', 0.2857142857142857), ('eve', 'chuck', 0.42857142857142855), ('imothep', 'isaac', 0.4), ('imothep', 'chuck', 0.14285714285714285), ('isaac', 'chuck', 0.4)]\n"
     ]
    }
   ],
   "source": [
    "print(lsjaccard)"
   ]
  },
  {
   "cell_type": "code",
   "execution_count": 54,
   "metadata": {},
   "outputs": [],
   "source": [
    "limothep = [a for a in lcomb if 'imothep' in a]"
   ]
  },
  {
   "cell_type": "code",
   "execution_count": 55,
   "metadata": {},
   "outputs": [],
   "source": [
    "ladamic = nx.adamic_adar_index(G, limothep)\n",
    "    "
   ]
  },
  {
   "cell_type": "code",
   "execution_count": 56,
   "metadata": {},
   "outputs": [],
   "source": [
    "def last(n): \n",
    "    return n[2]"
   ]
  },
  {
   "cell_type": "code",
   "execution_count": 57,
   "metadata": {},
   "outputs": [
    {
     "name": "stdout",
     "output_type": "stream",
     "text": [
      "('oscar', 'imothep', 0)\n",
      "('dave', 'imothep', 0)\n",
      "('carlos', 'imothep', 0.5581106265512472)\n",
      "('carol', 'imothep', 0.5581106265512472)\n",
      "('imothep', 'chuck', 0.5581106265512472)\n",
      "('alice', 'imothep', 0.7213475204444817)\n",
      "('imothep', 'isaac', 1.279458146995729)\n",
      "('bob', 'imothep', 2.0008056674402104)\n",
      "('eve', 'imothep', 2.8853900817779268)\n"
     ]
    }
   ],
   "source": [
    "for ad in sorted(ladamic, key=last):\n",
    "    print (ad)"
   ]
  },
  {
   "cell_type": "code",
   "execution_count": 48,
   "metadata": {},
   "outputs": [],
   "source": [
    "import pandas as pd\n",
    "from pandas import DataFrame"
   ]
  },
  {
   "cell_type": "code",
   "execution_count": 49,
   "metadata": {},
   "outputs": [],
   "source": [
    "df = DataFrame(lsjaccard)"
   ]
  },
  {
   "cell_type": "code",
   "execution_count": 50,
   "metadata": {},
   "outputs": [
    {
     "data": {
      "text/html": [
       "<div>\n",
       "<style scoped>\n",
       "    .dataframe tbody tr th:only-of-type {\n",
       "        vertical-align: middle;\n",
       "    }\n",
       "\n",
       "    .dataframe tbody tr th {\n",
       "        vertical-align: top;\n",
       "    }\n",
       "\n",
       "    .dataframe thead th {\n",
       "        text-align: right;\n",
       "    }\n",
       "</style>\n",
       "<table border=\"1\" class=\"dataframe\">\n",
       "  <thead>\n",
       "    <tr style=\"text-align: right;\">\n",
       "      <th></th>\n",
       "      <th>0</th>\n",
       "      <th>1</th>\n",
       "      <th>2</th>\n",
       "    </tr>\n",
       "  </thead>\n",
       "  <tbody>\n",
       "    <tr>\n",
       "      <td>0</td>\n",
       "      <td>oscar</td>\n",
       "      <td>dave</td>\n",
       "      <td>0.333333</td>\n",
       "    </tr>\n",
       "    <tr>\n",
       "      <td>1</td>\n",
       "      <td>oscar</td>\n",
       "      <td>alice</td>\n",
       "      <td>0.250000</td>\n",
       "    </tr>\n",
       "    <tr>\n",
       "      <td>2</td>\n",
       "      <td>oscar</td>\n",
       "      <td>carlos</td>\n",
       "      <td>0.200000</td>\n",
       "    </tr>\n",
       "    <tr>\n",
       "      <td>3</td>\n",
       "      <td>oscar</td>\n",
       "      <td>bob</td>\n",
       "      <td>0.000000</td>\n",
       "    </tr>\n",
       "    <tr>\n",
       "      <td>4</td>\n",
       "      <td>oscar</td>\n",
       "      <td>carol</td>\n",
       "      <td>0.000000</td>\n",
       "    </tr>\n",
       "    <tr>\n",
       "      <td>5</td>\n",
       "      <td>oscar</td>\n",
       "      <td>eve</td>\n",
       "      <td>0.000000</td>\n",
       "    </tr>\n",
       "    <tr>\n",
       "      <td>6</td>\n",
       "      <td>oscar</td>\n",
       "      <td>imothep</td>\n",
       "      <td>0.000000</td>\n",
       "    </tr>\n",
       "    <tr>\n",
       "      <td>7</td>\n",
       "      <td>oscar</td>\n",
       "      <td>isaac</td>\n",
       "      <td>0.000000</td>\n",
       "    </tr>\n",
       "    <tr>\n",
       "      <td>8</td>\n",
       "      <td>oscar</td>\n",
       "      <td>chuck</td>\n",
       "      <td>0.000000</td>\n",
       "    </tr>\n",
       "    <tr>\n",
       "      <td>9</td>\n",
       "      <td>dave</td>\n",
       "      <td>alice</td>\n",
       "      <td>0.250000</td>\n",
       "    </tr>\n",
       "    <tr>\n",
       "      <td>10</td>\n",
       "      <td>dave</td>\n",
       "      <td>carlos</td>\n",
       "      <td>0.200000</td>\n",
       "    </tr>\n",
       "    <tr>\n",
       "      <td>11</td>\n",
       "      <td>dave</td>\n",
       "      <td>bob</td>\n",
       "      <td>0.000000</td>\n",
       "    </tr>\n",
       "    <tr>\n",
       "      <td>12</td>\n",
       "      <td>dave</td>\n",
       "      <td>carol</td>\n",
       "      <td>0.000000</td>\n",
       "    </tr>\n",
       "    <tr>\n",
       "      <td>13</td>\n",
       "      <td>dave</td>\n",
       "      <td>eve</td>\n",
       "      <td>0.000000</td>\n",
       "    </tr>\n",
       "    <tr>\n",
       "      <td>14</td>\n",
       "      <td>dave</td>\n",
       "      <td>imothep</td>\n",
       "      <td>0.000000</td>\n",
       "    </tr>\n",
       "    <tr>\n",
       "      <td>15</td>\n",
       "      <td>dave</td>\n",
       "      <td>isaac</td>\n",
       "      <td>0.000000</td>\n",
       "    </tr>\n",
       "    <tr>\n",
       "      <td>16</td>\n",
       "      <td>dave</td>\n",
       "      <td>chuck</td>\n",
       "      <td>0.000000</td>\n",
       "    </tr>\n",
       "    <tr>\n",
       "      <td>17</td>\n",
       "      <td>alice</td>\n",
       "      <td>carlos</td>\n",
       "      <td>0.000000</td>\n",
       "    </tr>\n",
       "    <tr>\n",
       "      <td>18</td>\n",
       "      <td>alice</td>\n",
       "      <td>bob</td>\n",
       "      <td>0.166667</td>\n",
       "    </tr>\n",
       "    <tr>\n",
       "      <td>19</td>\n",
       "      <td>alice</td>\n",
       "      <td>carol</td>\n",
       "      <td>0.000000</td>\n",
       "    </tr>\n",
       "    <tr>\n",
       "      <td>20</td>\n",
       "      <td>alice</td>\n",
       "      <td>eve</td>\n",
       "      <td>0.125000</td>\n",
       "    </tr>\n",
       "    <tr>\n",
       "      <td>21</td>\n",
       "      <td>alice</td>\n",
       "      <td>imothep</td>\n",
       "      <td>0.166667</td>\n",
       "    </tr>\n",
       "    <tr>\n",
       "      <td>22</td>\n",
       "      <td>alice</td>\n",
       "      <td>isaac</td>\n",
       "      <td>0.000000</td>\n",
       "    </tr>\n",
       "    <tr>\n",
       "      <td>23</td>\n",
       "      <td>alice</td>\n",
       "      <td>chuck</td>\n",
       "      <td>0.000000</td>\n",
       "    </tr>\n",
       "    <tr>\n",
       "      <td>24</td>\n",
       "      <td>carlos</td>\n",
       "      <td>bob</td>\n",
       "      <td>0.142857</td>\n",
       "    </tr>\n",
       "    <tr>\n",
       "      <td>25</td>\n",
       "      <td>carlos</td>\n",
       "      <td>carol</td>\n",
       "      <td>0.500000</td>\n",
       "    </tr>\n",
       "    <tr>\n",
       "      <td>26</td>\n",
       "      <td>carlos</td>\n",
       "      <td>eve</td>\n",
       "      <td>0.250000</td>\n",
       "    </tr>\n",
       "    <tr>\n",
       "      <td>27</td>\n",
       "      <td>carlos</td>\n",
       "      <td>imothep</td>\n",
       "      <td>0.142857</td>\n",
       "    </tr>\n",
       "    <tr>\n",
       "      <td>28</td>\n",
       "      <td>carlos</td>\n",
       "      <td>isaac</td>\n",
       "      <td>0.400000</td>\n",
       "    </tr>\n",
       "    <tr>\n",
       "      <td>29</td>\n",
       "      <td>carlos</td>\n",
       "      <td>chuck</td>\n",
       "      <td>0.600000</td>\n",
       "    </tr>\n",
       "    <tr>\n",
       "      <td>30</td>\n",
       "      <td>bob</td>\n",
       "      <td>carol</td>\n",
       "      <td>0.200000</td>\n",
       "    </tr>\n",
       "    <tr>\n",
       "      <td>31</td>\n",
       "      <td>bob</td>\n",
       "      <td>eve</td>\n",
       "      <td>0.428571</td>\n",
       "    </tr>\n",
       "    <tr>\n",
       "      <td>32</td>\n",
       "      <td>bob</td>\n",
       "      <td>imothep</td>\n",
       "      <td>0.600000</td>\n",
       "    </tr>\n",
       "    <tr>\n",
       "      <td>33</td>\n",
       "      <td>bob</td>\n",
       "      <td>isaac</td>\n",
       "      <td>0.400000</td>\n",
       "    </tr>\n",
       "    <tr>\n",
       "      <td>34</td>\n",
       "      <td>bob</td>\n",
       "      <td>chuck</td>\n",
       "      <td>0.333333</td>\n",
       "    </tr>\n",
       "    <tr>\n",
       "      <td>35</td>\n",
       "      <td>carol</td>\n",
       "      <td>eve</td>\n",
       "      <td>0.142857</td>\n",
       "    </tr>\n",
       "    <tr>\n",
       "      <td>36</td>\n",
       "      <td>carol</td>\n",
       "      <td>imothep</td>\n",
       "      <td>0.200000</td>\n",
       "    </tr>\n",
       "    <tr>\n",
       "      <td>37</td>\n",
       "      <td>carol</td>\n",
       "      <td>isaac</td>\n",
       "      <td>0.250000</td>\n",
       "    </tr>\n",
       "    <tr>\n",
       "      <td>38</td>\n",
       "      <td>carol</td>\n",
       "      <td>chuck</td>\n",
       "      <td>0.500000</td>\n",
       "    </tr>\n",
       "    <tr>\n",
       "      <td>39</td>\n",
       "      <td>eve</td>\n",
       "      <td>imothep</td>\n",
       "      <td>0.428571</td>\n",
       "    </tr>\n",
       "    <tr>\n",
       "      <td>40</td>\n",
       "      <td>eve</td>\n",
       "      <td>isaac</td>\n",
       "      <td>0.285714</td>\n",
       "    </tr>\n",
       "    <tr>\n",
       "      <td>41</td>\n",
       "      <td>eve</td>\n",
       "      <td>chuck</td>\n",
       "      <td>0.428571</td>\n",
       "    </tr>\n",
       "    <tr>\n",
       "      <td>42</td>\n",
       "      <td>imothep</td>\n",
       "      <td>isaac</td>\n",
       "      <td>0.400000</td>\n",
       "    </tr>\n",
       "    <tr>\n",
       "      <td>43</td>\n",
       "      <td>imothep</td>\n",
       "      <td>chuck</td>\n",
       "      <td>0.142857</td>\n",
       "    </tr>\n",
       "    <tr>\n",
       "      <td>44</td>\n",
       "      <td>isaac</td>\n",
       "      <td>chuck</td>\n",
       "      <td>0.400000</td>\n",
       "    </tr>\n",
       "  </tbody>\n",
       "</table>\n",
       "</div>"
      ],
      "text/plain": [
       "          0        1         2\n",
       "0     oscar     dave  0.333333\n",
       "1     oscar    alice  0.250000\n",
       "2     oscar   carlos  0.200000\n",
       "3     oscar      bob  0.000000\n",
       "4     oscar    carol  0.000000\n",
       "5     oscar      eve  0.000000\n",
       "6     oscar  imothep  0.000000\n",
       "7     oscar    isaac  0.000000\n",
       "8     oscar    chuck  0.000000\n",
       "9      dave    alice  0.250000\n",
       "10     dave   carlos  0.200000\n",
       "11     dave      bob  0.000000\n",
       "12     dave    carol  0.000000\n",
       "13     dave      eve  0.000000\n",
       "14     dave  imothep  0.000000\n",
       "15     dave    isaac  0.000000\n",
       "16     dave    chuck  0.000000\n",
       "17    alice   carlos  0.000000\n",
       "18    alice      bob  0.166667\n",
       "19    alice    carol  0.000000\n",
       "20    alice      eve  0.125000\n",
       "21    alice  imothep  0.166667\n",
       "22    alice    isaac  0.000000\n",
       "23    alice    chuck  0.000000\n",
       "24   carlos      bob  0.142857\n",
       "25   carlos    carol  0.500000\n",
       "26   carlos      eve  0.250000\n",
       "27   carlos  imothep  0.142857\n",
       "28   carlos    isaac  0.400000\n",
       "29   carlos    chuck  0.600000\n",
       "30      bob    carol  0.200000\n",
       "31      bob      eve  0.428571\n",
       "32      bob  imothep  0.600000\n",
       "33      bob    isaac  0.400000\n",
       "34      bob    chuck  0.333333\n",
       "35    carol      eve  0.142857\n",
       "36    carol  imothep  0.200000\n",
       "37    carol    isaac  0.250000\n",
       "38    carol    chuck  0.500000\n",
       "39      eve  imothep  0.428571\n",
       "40      eve    isaac  0.285714\n",
       "41      eve    chuck  0.428571\n",
       "42  imothep    isaac  0.400000\n",
       "43  imothep    chuck  0.142857\n",
       "44    isaac    chuck  0.400000"
      ]
     },
     "execution_count": 50,
     "metadata": {},
     "output_type": "execute_result"
    }
   ],
   "source": [
    "df"
   ]
  },
  {
   "cell_type": "code",
   "execution_count": null,
   "metadata": {},
   "outputs": [],
   "source": []
  }
 ],
 "metadata": {
  "kernelspec": {
   "display_name": "Python 3",
   "language": "python",
   "name": "python3"
  },
  "language_info": {
   "codemirror_mode": {
    "name": "ipython",
    "version": 3
   },
   "file_extension": ".py",
   "mimetype": "text/x-python",
   "name": "python",
   "nbconvert_exporter": "python",
   "pygments_lexer": "ipython3",
   "version": "3.7.3"
  }
 },
 "nbformat": 4,
 "nbformat_minor": 2
}
